{
 "cells": [
  {
   "cell_type": "markdown",
   "id": "a866c96c",
   "metadata": {},
   "source": [
    "# Pre-requisites\n",
    "\n",
    "Importing Packages, Function for fetching real time price of stock"
   ]
  },
  {
   "cell_type": "code",
   "execution_count": 60,
   "id": "b626c715",
   "metadata": {},
   "outputs": [],
   "source": [
    "import math\n",
    "import numpy as np\n",
    "import yfinance as yf\n",
    "from scipy.stats import norm"
   ]
  },
  {
   "cell_type": "code",
   "execution_count": 61,
   "id": "fd6ec6b6",
   "metadata": {},
   "outputs": [],
   "source": [
    "# Fetch real-time stock price from Yahoo Finance\n",
    "def real_time_price(symbol):\n",
    "    stock = yf.Ticker(symbol)\n",
    "    data = stock.history(period='1d', interval='1m')\n",
    "    latest_price = data['Close'].iloc[-1]\n",
    "    return latest_price\n",
    "\n",
    "# Calculate historical volatility\n",
    "def historical_volatility(symbol, period='1y'):\n",
    "    stock = yf.Ticker(symbol)\n",
    "    prices = stock.history(period=period)['Close']\n",
    "    log_returns = np.log(prices / prices.shift(1)).dropna()\n",
    "    volatility = np.std(log_returns) * np.sqrt(252)  # Annualizing the volatility\n",
    "    return volatility"
   ]
  },
  {
   "cell_type": "markdown",
   "id": "64227804",
   "metadata": {},
   "source": [
    "# Parameters"
   ]
  },
  {
   "cell_type": "code",
   "execution_count": 67,
   "id": "5a0853ba",
   "metadata": {},
   "outputs": [
    {
     "name": "stdout",
     "output_type": "stream",
     "text": [
      "Current price of TSLA is $197.57\n",
      "Current volatility of TSLA is $0.50\n",
      "Strike price is $200 for an expiration period of 2 years with risk-free interest rate of 0.05%\n"
     ]
    }
   ],
   "source": [
    "# User entered\n",
    "\n",
    "symbol = 'TSLA'  # Tesla stock symbol\n",
    "T = 2     # Time to expiration (in years)\n",
    "K = 200   # Strike Price\n",
    "N = 24    # For American Options\n",
    "\n",
    "# Calculated\n",
    "\n",
    "S0 = real_time_price(symbol)  # Current price of underlying asset\n",
    "sigma = historical_volatility(symbol)\n",
    "r = 0.05 # risk-free interest rate\n",
    "\n",
    "print(\"Current price of {} is ${:.2f}\".format(symbol, S0))\n",
    "print(\"Current volatility of {} is ${:.2f}\".format(symbol, sigma))\n",
    "print(\"Strike price is ${} for an expiration period of {} years with risk-free interest rate of {}%\".format(K, T, r))"
   ]
  },
  {
   "cell_type": "markdown",
   "id": "dca45122",
   "metadata": {},
   "source": [
    "# European Options\n",
    "\n",
    "Uses Black-Scholes model to generate Call/Put options pricing"
   ]
  },
  {
   "cell_type": "code",
   "execution_count": 68,
   "id": "6f07c6db",
   "metadata": {},
   "outputs": [
    {
     "name": "stdout",
     "output_type": "stream",
     "text": [
      "Call price: $60.740\n",
      "Put price: $44.138\n"
     ]
    }
   ],
   "source": [
    "def black_scholes(S0, K, sigma, r, T):\n",
    "\n",
    "    # Calculate d1 and d2\n",
    "    d1 = (np.log(S0 / K) + (r + sigma ** 2 / 2) * T) / (sigma * np.sqrt(T))\n",
    "    d2 = d1 - sigma * np.sqrt(T)\n",
    "\n",
    "    # Calculate call and put option prices\n",
    "    call_price = S0 * norm.cdf(d1) - K * np.exp(-r * T) * norm.cdf(d2)\n",
    "    put_price = K * np.exp(-r * T) * norm.cdf(-d2) - S0 * norm.cdf(-d1)\n",
    "    return [call_price, put_price]\n",
    "    \n",
    "output = black_scholes(S0, K, sigma, r, T)\n",
    "\n",
    "# Print option prices\n",
    "print(\"Call price: ${:.3f}\".format(output[0]))\n",
    "print(\"Put price: ${:.3f}\".format(output[1]))"
   ]
  },
  {
   "cell_type": "markdown",
   "id": "67866c0a",
   "metadata": {},
   "source": [
    "# American Options\n",
    "\n",
    "Uses Cox Ross Rubenstein (Binary Tree) model to generate Call/Put options pricing"
   ]
  },
  {
   "cell_type": "code",
   "execution_count": 69,
   "id": "bda65aa5",
   "metadata": {},
   "outputs": [
    {
     "name": "stdout",
     "output_type": "stream",
     "text": [
      "Call price: $60.364\n",
      "Put price: $43.762\n"
     ]
    }
   ],
   "source": [
    "def binom_tree(S0, K, sigma, r, T, N):\n",
    "    # init\n",
    "    dt = T/N\n",
    "    u = np.exp(sigma*np.sqrt(dt))\n",
    "    d = 1/u\n",
    "    p = (np.exp(r*dt)-d)/(u-d)\n",
    "    \n",
    "    # price tree\n",
    "    price_tree = np.zeros([N+1, N+1])\n",
    "    \n",
    "    for i in range(N+1):\n",
    "        for j in range(i+1):\n",
    "            price_tree[j, i] = S0*(d**j)*(u**(i-j))\n",
    "            \n",
    "    # Options Value\n",
    "    option_call = np.zeros([N+1, N+1])\n",
    "    option_call[:, N] = np.maximum(np.zeros([N+1]), price_tree[:,N]-K)\n",
    "    \n",
    "    option_put = np.zeros([N+1, N+1])\n",
    "    option_put[:, N] = np.maximum(np.zeros([N+1]), K-price_tree[:,N])\n",
    "    \n",
    "    # Option Value at t = 0\n",
    "    for i in np.arange(N-1, -1, -1):\n",
    "        for j in np.arange(0, i+1):\n",
    "            option_call[j, i] = np.exp(-r*dt)*(p*option_call[j,i+1]+(1-p)*option_call[j+1, i+1])\n",
    "            option_put[j, i] = np.exp(-r*dt)*(p*option_put[j,i+1]+(1-p)*option_put[j+1, i+1])\n",
    "        \n",
    "        \n",
    "    # Return:\n",
    "    return [option_call[0,0], option_put[0,0]]\n",
    "\n",
    "output = binom_tree(S0, K, sigma, r, T, N)\n",
    "\n",
    "# Print option prices\n",
    "print(\"Call price: ${:.3f}\".format(output[0]))\n",
    "print(\"Put price: ${:.3f}\".format(output[1]))"
   ]
  }
 ],
 "metadata": {
  "kernelspec": {
   "display_name": "Python 3 (ipykernel)",
   "language": "python",
   "name": "python3"
  },
  "language_info": {
   "codemirror_mode": {
    "name": "ipython",
    "version": 3
   },
   "file_extension": ".py",
   "mimetype": "text/x-python",
   "name": "python",
   "nbconvert_exporter": "python",
   "pygments_lexer": "ipython3",
   "version": "3.11.1"
  }
 },
 "nbformat": 4,
 "nbformat_minor": 5
}
